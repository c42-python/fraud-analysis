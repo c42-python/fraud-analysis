{
 "cells": [
  {
   "cell_type": "markdown",
   "metadata": {},
   "source": [
    "# Basics of implementing quantitative trading strategy\n",
    "\n",
    "*This notebook is an exercise notebook to analyse the Microsoft stocks following the steps mentioned in each cell. Please write the code below the comment or fill the blanks ---------- wherever placed (don't forget to delete the hyphens)*\n",
    "\n",
    "The OLT covers the following topics:\n",
    "\n",
    "* Getting started guide\n",
    "    * Data Collection\n",
    "    * Time series analysis\n",
    "    * Exploratory data analysis\n",
    "    * Visualizations\n",
    "* Financial Analyses\n",
    "    * Calculating returns\n",
    "    * Moving averages\n",
    "    * Volatility calculation\n",
    "* Implementing Momentum Trading strategy with Python\n",
    "* Backtesting the strategy\n",
    "* Evaluating the strategy\n",
    "    * Sharpe ratio\n",
    "    * Max Drawdown\n",
    "    * Compound Annual Growth Rate\n"
   ]
  },
  {
   "cell_type": "markdown",
   "metadata": {},
   "source": [
    "# Data reading and cleansing\n",
    "\n",
    "In this section, we are going to read the data we extracted from the APIs. We'll explore the data and find the caveats with the format of the data. We'll then make the necessary format changes to the data to make it easy to use while implementing the strategy."
   ]
  },
  {
   "cell_type": "code",
   "execution_count": 5,
   "metadata": {},
   "outputs": [],
   "source": [
    "# import the libraries for reading the file from the path\n"
   ]
  },
  {
   "cell_type": "code",
   "execution_count": null,
   "metadata": {},
   "outputs": [],
   "source": [
    "# read the file from the path `../data/apple_stock_eod_prices.csv'` with \n",
    "# index_col = 0, header = 0 and parse_dates = True\n",
    "\n",
    "msft = --------\n",
    "\n",
    "# Also print the first  10 rows of the dataframe\n",
    "print(----------)\n"
   ]
  },
  {
   "cell_type": "markdown",
   "metadata": {},
   "source": [
    "# Manipulating Time Series Data"
   ]
  },
  {
   "cell_type": "code",
   "execution_count": null,
   "metadata": {},
   "outputs": [],
   "source": [
    "# inspect the index column\n",
    "msft.-------\n"
   ]
  },
  {
   "cell_type": "code",
   "execution_count": null,
   "metadata": {},
   "outputs": [],
   "source": [
    "# inspect and print the columns\n",
    "\n"
   ]
  },
  {
   "cell_type": "code",
   "execution_count": null,
   "metadata": {},
   "outputs": [],
   "source": [
    "# select and print the  bottom rows\n",
    "\n",
    "\n",
    "# check the type of the subset rows\n"
   ]
  },
  {
   "cell_type": "code",
   "execution_count": null,
   "metadata": {},
   "outputs": [],
   "source": [
    "# inspect the data by checking out a sample of 20 rows and print the rows\n"
   ]
  },
  {
   "cell_type": "code",
   "execution_count": null,
   "metadata": {},
   "outputs": [],
   "source": [
    "# Resample to monthly level using resample() function\n",
    "\n"
   ]
  },
  {
   "cell_type": "code",
   "execution_count": null,
   "metadata": {},
   "outputs": [],
   "source": [
    "# let's looks at the general statistics of the stock using describe()\n"
   ]
  },
  {
   "cell_type": "markdown",
   "metadata": {},
   "source": [
    "Create a diff column inside the "
   ]
  },
  {
   "cell_type": "code",
   "execution_count": null,
   "metadata": {},
   "outputs": [],
   "source": [
    "# let's look at the difference in the stock price during one day of trading\n",
    "# subtracting the closing price from the open price and storing it in a new diff column\n",
    "\n",
    "msft['diff'] = -------------\n",
    "msft['diff']"
   ]
  },
  {
   "cell_type": "code",
   "execution_count": null,
   "metadata": {},
   "outputs": [],
   "source": [
    "# We should look at the trends and movement of the stock price via some plots\n",
    "# plotting the closing price using matplotlib which is imported above \n",
    "msft['Close'].---------\n",
    "\n",
    "# show the plot\n",
    "plt.show()"
   ]
  },
  {
   "cell_type": "markdown",
   "metadata": {},
   "source": [
    "# Financial Analysis: Calculating Returns\n",
    "\n",
    "## Returns"
   ]
  },
  {
   "cell_type": "code",
   "execution_count": null,
   "metadata": {},
   "outputs": [],
   "source": [
    "# we'll be using the adjusted closing price column to calculate the percent change \n",
    "daily_close = msft[['Adj_Close']]\n",
    "\n",
    "# using pct_change method to calculate the percent change\n",
    "daily_pct_c = ----------\n",
    "\n",
    "# filling the nan values with 0\n",
    "daily_pct_c.fillna(0, inplace=True)\n",
    "\n",
    "print(daily_pct_c)"
   ]
  },
  {
   "cell_type": "code",
   "execution_count": null,
   "metadata": {},
   "outputs": [],
   "source": [
    "# Resample `msft` to quarters, take the mean as value per quarter\n",
    "quarter = ----------\n",
    "\n",
    "# Calculate the quarterly percentage change\n",
    "quarter.-------"
   ]
  },
  {
   "cell_type": "code",
   "execution_count": null,
   "metadata": {},
   "outputs": [],
   "source": [
    "# Calculate the daily returns using simple division and shift method\n",
    "daily_pct_c = -------\n"
   ]
  },
  {
   "cell_type": "code",
   "execution_count": null,
   "metadata": {},
   "outputs": [],
   "source": [
    "# plot histogram for the above evaluated daily_pct_c with 50 bins\n",
    "\n"
   ]
  },
  {
   "cell_type": "code",
   "execution_count": null,
   "metadata": {},
   "outputs": [],
   "source": [
    "# Calculate the cumulative daily returns using cumprod()\n",
    "cum_daily_return = \n",
    "\n",
    "# Print `cum_daily_return`\n",
    "print(cum_daily_return)"
   ]
  },
  {
   "cell_type": "markdown",
   "metadata": {},
   "source": [
    "# Building the strategy"
   ]
  },
  {
   "cell_type": "code",
   "execution_count": null,
   "metadata": {},
   "outputs": [],
   "source": [
    "# let's add the returns column in the msft  dataframe\n",
    "msft['returns'] = np.log(msft['Adj_Close'] / msft['Adj_Close'].shift(1))\n",
    "msft.head()"
   ]
  },
  {
   "cell_type": "markdown",
   "metadata": {},
   "source": [
    "\n",
    "## Formalizing the momentum strategy\n",
    "\n",
    "We'll go step by step:\n",
    "1. First define your two different lookback periods: a short window(30) and a long window(120). Assign these integers to 2 variables. Make sure that the integer that you assign to the short window is shorter than the integer that you assign to the long window variable!\n",
    "\n",
    "2. Next, make an empty signals DataFrame, but do make sure to copy the index of your msft data so that you can start calculating the daily buy or sell signal for your msft data.\n",
    "\n",
    "3. Create a column in your empty signals DataFrame that is named signal and initialize it by setting the value for all rows in this column to 0.0.\n",
    "\n",
    "4. Now that preparatory work is done, it’s time to create the set of short and long simple moving averages over the respective long and short time windows. Make use of the `rolling()` function to start your rolling window calculcations: within the function, specify the window and the min_period, and set the center argument. In practice, this will result in a `rolling()` function to which you have passed either short_window or long_window, 1 as the minimum number of observations in the window that are required to have a value, and `False`, so that the labels are not set at the center of the window. Next, don’t forget to also chain the `mean()` function so that you calculate the rolling mean.\n",
    "\n",
    "5. Once you have calculated the mean average of the short and long windows, you should create a signal when the short moving average crosses the long moving average, but only for the period greater than the shortest moving average window. In Python, this will result in a condition: **signals['short_mavg'][short_window:] > signals['long_mavg'][short_window:]**. Note that you add the [short_window:] to comply with the condition “only for the period greater than the shortest moving average window”. When the condition is true, the initialized value 0.0 in the signal column will be overwitten with 1.0. A “signal” is created! If the condition is false, the original value of 0.0 will be kept and no signal is generated. You use the NumPy where() function to set up this condition. Much the same like you read just now, the variable to which you assign this result is `signals['signal'][short_window]`, because you only want to create signals for the period greater than the shortest moving average window!\n",
    "\n",
    "6. Lastly, you take the difference of the signals in order to generate actual trading orders. In other words, in this column of your signals DataFrame, you’ll be able to distinguish between long and short positions, whether you’re buying or selling stock.\n",
    "\n",
    "\n",
    "**Strategy rules:**\n",
    "\n",
    "The dual moving average crossover occurs when a short-term average crosses a long-term average. \n",
    "This signal is used to identify that momentum is shifting in the direction of the short-term average. A buy signal is generated when the short-term average crosses the long-term average and rises above it, while a sell signal is triggered by a short-term average crossing long-term average and falling below it.\n",
    "\n"
   ]
  },
  {
   "cell_type": "code",
   "execution_count": null,
   "metadata": {},
   "outputs": [],
   "source": [
    "# Initialize the short and long windows\n",
    "short_window = ---\n",
    "long_window = ---\n",
    "\n",
    "# Initialize the `signals` DataFrame with the `signal` column\n",
    "signals = pd.DataFrame(index=msft.index)\n",
    "signals['signal'] = 0.0\n",
    "\n",
    "# Create short simple moving average over the short window\n",
    "signals['short_mavg'] = ----\n",
    "\n",
    "# Create long simple moving average over the long window\n",
    "signals['long_mavg'] = ----\n",
    "\n",
    "# Create signals add the logic for checking the crossover of short moving average\n",
    "signals['signal'][short_window:] =   \n",
    "\n",
    "# Creating trading orders\n",
    "signals['positions'] = signals['signal'].diff()\n",
    "signals"
   ]
  },
  {
   "cell_type": "markdown",
   "metadata": {},
   "source": [
    "# Plot the above generated signals"
   ]
  },
  {
   "cell_type": "code",
   "execution_count": null,
   "metadata": {},
   "outputs": [],
   "source": [
    "# Initialize the plot figure\n",
    "fig = plt.figure()\n",
    "\n",
    "# Add a subplot and label for y-axis\n",
    "ax1 = fig.add_subplot(111,  ylabel='Price in $')\n",
    "\n",
    "# Plot the closing price\n",
    "msft['Close'].plot(ax=ax1, color='r', lw=2.)\n",
    "\n",
    "# Plot the short and long moving averages\n",
    "signals[['short_mavg', 'long_mavg']].plot(ax=ax1, lw=2.)\n",
    "\n",
    "# Plot the buy signals\n",
    "ax1.plot(signals.loc[signals.positions == 1.0].index, \n",
    "         signals.short_mavg[signals.positions == 1.0],\n",
    "         '^', markersize=10, color='b')\n",
    "         \n",
    "# Plot the sell signals\n",
    "ax1.plot(signals.loc[signals.positions == -1.0].index, \n",
    "         signals.short_mavg[signals.positions == -1.0],\n",
    "         'v', markersize=10, color='k')\n",
    "         \n",
    "# Show the plot"
   ]
  },
  {
   "cell_type": "markdown",
   "metadata": {},
   "source": [
    "# Backtest the strategy"
   ]
  },
  {
   "cell_type": "code",
   "execution_count": null,
   "metadata": {},
   "outputs": [],
   "source": [
    "# Set the initial capital\n",
    "initial_capital= ----\n",
    "\n",
    "# Create a DataFrame `positions`\n",
    "positions = pd.DataFrame(index=signals.index).fillna(0.0)\n",
    "\n",
    "# Buy a 100 shares\n",
    "positions['MSFT'] =  ---\n",
    "  \n",
    "# Initialize the portfolio with value owned   \n",
    "portfolio = positions.multiply(msft['Adj_Close'], axis=0)\n",
    "\n",
    "# Store the difference in shares owned \n",
    "pos_diff = positions.diff()\n",
    "\n",
    "# Add `holdings` to portfolio\n",
    "portfolio['holdings'] = (positions.multiply(msft['Adj_Close'], axis=0)).sum(axis=1)\n",
    "\n",
    "# Add `cash` to portfolio\n",
    "portfolio['cash'] = initial_capital - (pos_diff.multiply(msft['Adj_Close'], axis=0)).sum(axis=1).cumsum()   \n",
    "\n",
    "# Add `total` to portfolio\n",
    "portfolio['total'] = portfolio['cash'] + portfolio['holdings']\n",
    "\n",
    "# Add `returns` to portfolio\n",
    "portfolio['returns'] = portfolio['total'].pct_change()\n"
   ]
  },
  {
   "cell_type": "code",
   "execution_count": null,
   "metadata": {},
   "outputs": [],
   "source": [
    "fig = plt.figure()\n",
    "\n",
    "ax1 = fig.add_subplot(111, ylabel='Portfolio value in $')\n",
    "\n",
    "# Plot the equity curve in dollars\n",
    "portfolio['total'].plot(ax=ax1, lw=2.)\n",
    "\n",
    "# Plot the \"buy\" trades against the equity curve\n",
    "ax1.plot(portfolio.loc[signals.positions == 1.0].index, \n",
    "         portfolio.total[signals.positions == 1.0],\n",
    "         '^', markersize=10, color='m')\n",
    "\n",
    "# Plot the \"sell\" trades against the equity curve\n",
    "ax1.plot(portfolio.loc[signals.positions == -1.0].index, \n",
    "         portfolio.total[signals.positions == -1.0],\n",
    "         'v', markersize=10, color='k')\n",
    "\n",
    "# Show the plot\n",
    "plt.show()"
   ]
  },
  {
   "cell_type": "markdown",
   "metadata": {},
   "source": [
    "## Calculating the sharpe ratio for moving crossover strategy"
   ]
  },
  {
   "cell_type": "code",
   "execution_count": null,
   "metadata": {},
   "outputs": [],
   "source": [
    "# Sharpe Ratio\n",
    "# Isolate the returns of your strategy\n",
    "returns = portfolio['returns']\n",
    "\n",
    "# annualized Sharpe ratio\n",
    "sharpe_ratio = np.sqrt(252) * (returns.mean() / returns.std())\n",
    "\n",
    "# Print the Sharpe ratio\n",
    "print(sharpe_ratio)"
   ]
  },
  {
   "cell_type": "code",
   "execution_count": null,
   "metadata": {},
   "outputs": [],
   "source": [
    "# Define a trailing 252 trading day window\n",
    "window = 252\n",
    "\n",
    "# Calculate the max drawdown in the past window days for each day\n",
    "rolling_max = ---\n",
    "daily_drawdown = msft['Adj_Close']/rolling_max - 1.0\n",
    "\n",
    "# Calculate the minimum (negative) daily drawdown\n",
    "max_daily_drawdown = ---\n",
    "\n",
    "# Plot the results\n",
    "daily_drawdown.plot()\n",
    "max_daily_drawdown.plot()\n",
    "\n",
    "# Show the plot\n",
    "plt.show()"
   ]
  },
  {
   "cell_type": "markdown",
   "metadata": {},
   "source": [
    "## Compound Annual Growth Rate"
   ]
  },
  {
   "cell_type": "code",
   "execution_count": null,
   "metadata": {},
   "outputs": [],
   "source": [
    "# Get the number of days in `msft`\n",
    "days = ---\n",
    "\n",
    "# Calculate the CAGR \n",
    "cagr = ----\n",
    "\n",
    "# Print CAGR\n",
    "print(cagr)"
   ]
  }
 ],
 "metadata": {
  "kernelspec": {
   "display_name": "Python 3",
   "language": "python",
   "name": "python3"
  },
  "language_info": {
   "codemirror_mode": {
    "name": "ipython",
    "version": 3
   },
   "file_extension": ".py",
   "mimetype": "text/x-python",
   "name": "python",
   "nbconvert_exporter": "python",
   "pygments_lexer": "ipython3",
   "version": "3.7.1"
  }
 },
 "nbformat": 4,
 "nbformat_minor": 2
}
