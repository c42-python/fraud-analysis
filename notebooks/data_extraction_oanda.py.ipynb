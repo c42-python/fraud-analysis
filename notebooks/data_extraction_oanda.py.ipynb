{
 "cells": [
  {
   "cell_type": "markdown",
   "metadata": {},
   "source": [
    "# Extracting data from OANDA APIs\n",
    "\n",
    "In this notebook we're going to learn how to extract data from the OANDA API and then moving on to do some exploratory data analysis using the powerful Pandas library. The instrument we use is EUR_USD and is based on the EUR/USD exchange rate."
   ]
  },
  {
   "cell_type": "code",
   "execution_count": 1,
   "metadata": {},
   "outputs": [],
   "source": [
    "import pandas as pd"
   ]
  },
  {
   "cell_type": "markdown",
   "metadata": {},
   "source": [
    "## Steps to get the data from the API:\n",
    "\n",
    "1. You'll need an API accesstoken along with your account_id to get authorized for API consumption.\n",
    "2. Pass the parameters which include the duration and granularity for which the data is to be requested.\n",
    "3. There are specific codes for each instrument that you want to analyse which are mentioned in OANDA docs.\n",
    "4. Request for all the candles data and you'll get a JSON data as the response."
   ]
  },
  {
   "cell_type": "code",
   "execution_count": null,
   "metadata": {},
   "outputs": [],
   "source": [
    "from oandapyV20 import API\n",
    "import datetime\n",
    "import oandapyV20.endpoints.instruments as instruments\n",
    "\n",
    "# put in your API credentials here:\n",
    "api = API(access_token = \"28da5c58c1b4237ca07022b992221924-76ffcf7b53ae61ca812b17b09bbc7d20\")\n",
    "account_id = \"101-001-9842268-001\"\n",
    "\n",
    "# define the parameters which include the dates for which the \n",
    "# data is to be requested along with the granularity\n",
    "params = {\n",
    "    \"from\": \"2018-11-01\",\n",
    "    \"to\": \"2018-11-04\",\n",
    "    \"granularity\": \"M1\"\n",
    "}\n",
    "\n",
    "r = instruments.InstrumentsCandles(instrument = 'EUR_USD', params=params)\n",
    "api.request(r)\n",
    "data = r.response"
   ]
  },
  {
   "cell_type": "code",
   "execution_count": null,
   "metadata": {},
   "outputs": [],
   "source": [
    "# let's see what have we got in the response\n",
    "print(data)"
   ]
  },
  {
   "cell_type": "markdown",
   "metadata": {},
   "source": [
    "Make a pandas dataframe of the candles data using pandas which will make it easier to maneuver the data and implement our trading strategy."
   ]
  },
  {
   "cell_type": "code",
   "execution_count": null,
   "metadata": {},
   "outputs": [],
   "source": [
    "# looking at the data, let's create the dataframe of all the candles\n",
    "df = pd.DataFrame(data['candles'])\n",
    "df.head()\n",
    "# drop the mid column from the original dataframe after \n",
    "# converting the json into series object and concatenating in the original dataframe\n",
    "\n",
    "# data_df = pd.concat([df.drop(['mid'], axis=1),\n",
    "#            df.mid.apply(pd.Series)], axis=1)\n",
    "# data_df.head()\n",
    "\n",
    "type(df['mid'][1])"
   ]
  },
  {
   "cell_type": "markdown",
   "metadata": {},
   "source": [
    "# ============================================================\n",
    "\n",
    "# Extracting data from Quandl API"
   ]
  },
  {
   "cell_type": "code",
   "execution_count": 2,
   "metadata": {},
   "outputs": [],
   "source": [
    "# requesting the end of day stock prices of Apple stocks from quandle API.\n",
    "import quandl as q\n",
    "q.ApiConfig.api_key = \"yuqp72Y_-GpAsrjQEXfL\"\n",
    "apple_data = q.get(\"EOD/AAPL\", start_date=\"2010-01-01\", end_date=\"2018-11-30\")\n",
    "apple_data.to_csv('../data/apple_stock_eod_prices.csv', index=True)"
   ]
  },
  {
   "cell_type": "code",
   "execution_count": 3,
   "metadata": {},
   "outputs": [],
   "source": [
    "msft_df = q.get(\"EOD/MSFT\", start_date=\"2010-01-01\", end_date=\"2018-11-30\")\n",
    "msft_df.to_csv('../data/msft_eod.csv', index=True)"
   ]
  },
  {
   "cell_type": "markdown",
   "metadata": {},
   "source": [
    "## Convert the time column into a datetime object column and set it as the index"
   ]
  },
  {
   "cell_type": "code",
   "execution_count": null,
   "metadata": {},
   "outputs": [],
   "source": [
    "df['time'] = df['time'].astype('datetime64[s]')\n",
    "df = df.set_index('time')\n",
    "df.info()"
   ]
  },
  {
   "cell_type": "markdown",
   "metadata": {},
   "source": [
    "## Flatten the mid column json into three different columns named as open(for o), high(for h), low(for l) and close(for c)"
   ]
  },
  {
   "cell_type": "code",
   "execution_count": null,
   "metadata": {},
   "outputs": [],
   "source": [
    "# drop the mid column from the original dataframe after \n",
    "# converting the json into series object and concatenating in the original dataframe\n",
    "\n",
    "data_df = pd.concat([df.drop(['mid'], axis=1),\n",
    "           df.mid.apply(pd.Series)], axis=1)\n",
    "data_df.head()"
   ]
  },
  {
   "cell_type": "code",
   "execution_count": null,
   "metadata": {},
   "outputs": [],
   "source": [
    "# renaming the 'o','h','l' and 'c' columns\n",
    "data_df.rename(columns={'o': 'open',\n",
    "                        'h': 'high',\n",
    "                        'l': 'low',\n",
    "                        'c': 'close'}, inplace = True)\n"
   ]
  }
 ],
 "metadata": {
  "kernelspec": {
   "display_name": "Python 3",
   "language": "python",
   "name": "python3"
  },
  "language_info": {
   "codemirror_mode": {
    "name": "ipython",
    "version": 3
   },
   "file_extension": ".py",
   "mimetype": "text/x-python",
   "name": "python",
   "nbconvert_exporter": "python",
   "pygments_lexer": "ipython3",
   "version": "3.7.1"
  }
 },
 "nbformat": 4,
 "nbformat_minor": 2
}
